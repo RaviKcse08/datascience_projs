{
  "nbformat": 4,
  "nbformat_minor": 0,
  "metadata": {
    "colab": {
      "provenance": [],
      "authorship_tag": "ABX9TyMBRwUCfBUqRkdjzZ+jXKfU",
      "include_colab_link": true
    },
    "kernelspec": {
      "name": "python3",
      "display_name": "Python 3"
    },
    "language_info": {
      "name": "python"
    }
  },
  "cells": [
    {
      "cell_type": "markdown",
      "metadata": {
        "id": "view-in-github",
        "colab_type": "text"
      },
      "source": [
        "<a href=\"https://colab.research.google.com/github/RaviKcse08/datascience_projs/blob/main/DecisionTree_from_Scratch.ipynb\" target=\"_parent\"><img src=\"https://colab.research.google.com/assets/colab-badge.svg\" alt=\"Open In Colab\"/></a>"
      ]
    },
    {
      "cell_type": "code",
      "execution_count": 1,
      "metadata": {
        "id": "RyzcnQxANT3q"
      },
      "outputs": [],
      "source": [
        "#Node class has feature, the threshold, and the left and right child, it will help when we recursively traverse tree in prediction.\n",
        "class my_Node:\n",
        "    def __init__(self, feature=None, threshold=None, left=None, right=None, *, value=None):\n",
        "        self.feature = feature\n",
        "        self.threshold = threshold\n",
        "        self.left = left\n",
        "        self.right = right\n",
        "        self.value = value\n",
        "    \n",
        "    def is_leaf(self):\n",
        "        return self.value is not None"
      ]
    },
    {
      "cell_type": "code",
      "source": [
        "import numpy as np\n",
        "\n",
        "class my_DecisionTree:\n",
        "    def __init__(self, max_depth=100, min_samples_split=2):\n",
        "        self.max_depth = max_depth\n",
        "        self.min_samples_split = min_samples_split\n",
        "        self.root = None\n",
        "\n",
        "    def _is_finished(self, depth):\n",
        "        if (depth >= self.max_depth\n",
        "            or self.n_class_labels == 1\n",
        "            or self.n_samples < self.min_samples_split):\n",
        "            return True\n",
        "        return False\n",
        "    \n",
        "    def _entropy(self, y):\n",
        "        proportions = np.bincount(y) / len(y)\n",
        "        entropy = -np.sum([p * np.log2(p) for p in proportions if p > 0])\n",
        "        return entropy\n",
        "\n",
        "    def _create_split(self, X, thresh):\n",
        "        left_idx = np.argwhere(X <= thresh).flatten()\n",
        "        right_idx = np.argwhere(X > thresh).flatten()\n",
        "        return left_idx, right_idx\n",
        "\n",
        "    def _information_gain(self, X, y, thresh):\n",
        "        parent_loss = self._entropy(y)\n",
        "        left_idx, right_idx = self._create_split(X, thresh)\n",
        "        n, n_left, n_right = len(y), len(left_idx), len(right_idx)\n",
        "\n",
        "        if n_left == 0 or n_right == 0: \n",
        "            return 0\n",
        "        \n",
        "        child_loss = (n_left / n) * self._entropy(y[left_idx]) + (n_right / n) * self._entropy(y[right_idx])\n",
        "        return parent_loss - child_loss\n",
        "\n",
        "    def _best_split(self, X, y, features):\n",
        "        split = {'score':- 1, 'feat': None, 'thresh': None}\n",
        "\n",
        "        for feat in features:\n",
        "            X_feat = X[:, feat]\n",
        "            thresholds = np.unique(X_feat)\n",
        "            for thresh in thresholds:\n",
        "                score = self._information_gain(X_feat, y, thresh)\n",
        "\n",
        "                if score > split['score']:\n",
        "                    split['score'] = score\n",
        "                    split['feat'] = feat\n",
        "                    split['thresh'] = thresh\n",
        "\n",
        "        return split['feat'], split['thresh']\n",
        "    \n",
        "    def _build_tree(self, X, y, depth=0):\n",
        "        self.n_samples, self.n_features = X.shape\n",
        "        self.n_class_labels = len(np.unique(y))\n",
        "\n",
        "        # stopping criteria\n",
        "        if self._is_finished(depth):\n",
        "            most_common_Label = np.argmax(np.bincount(y))\n",
        "            return my_Node(value=most_common_Label)\n",
        "\n",
        "        # get best split\n",
        "        rnd_feats = np.random.choice(self.n_features, self.n_features, replace=False)\n",
        "        best_feat, best_thresh = self._best_split(X, y, rnd_feats)\n",
        "\n",
        "        # grow children recursively\n",
        "        left_idx, right_idx = self._create_split(X[:, best_feat], best_thresh)\n",
        "        left_child = self._build_tree(X[left_idx, :], y[left_idx], depth + 1)\n",
        "        right_child = self._build_tree(X[right_idx, :], y[right_idx], depth + 1)\n",
        "        return my_Node(best_feat, best_thresh, left_child, right_child)\n",
        "    \n",
        "    def _traverse_tree(self, x, node):\n",
        "        if node.is_leaf():\n",
        "            return node.value\n",
        "        \n",
        "        if x[node.feature] <= node.threshold:\n",
        "            return self._traverse_tree(x, node.left)\n",
        "        return self._traverse_tree(x, node.right)\n",
        "\n",
        "    def fit(self, X, y):\n",
        "        self.root = self._build_tree(X, y)\n",
        "\n",
        "    def predict(self, X):\n",
        "        predictions = [self._traverse_tree(x, self.root) for x in X]\n",
        "        return np.array(predictions)"
      ],
      "metadata": {
        "id": "6W4ZWqdYNzln"
      },
      "execution_count": 12,
      "outputs": []
    },
    {
      "cell_type": "code",
      "source": [
        "# Testing\n",
        "if __name__ == \"__main__\":\n",
        "    import numpy as np\n",
        "    from sklearn import datasets\n",
        "    from sklearn.model_selection import train_test_split\n",
        "\n",
        "    def accuracy(y_true, y_pred):\n",
        "        accuracy = np.sum(y_true == y_pred) / len(y_true)\n",
        "        return accuracy\n",
        "\n",
        "    data = datasets.load_breast_cancer()\n",
        "    X, y = data.data, data.target\n",
        "\n",
        "    X_train, X_test, y_train, y_test = train_test_split(\n",
        "        X, y, test_size=0.2, random_state=1\n",
        "    )\n",
        "\n",
        "    clf = my_DecisionTree(max_depth=10)\n",
        "    clf.fit(X_train, y_train)\n",
        "\n",
        "    y_pred = clf.predict(X_test)\n",
        "    acc = accuracy(y_test, y_pred)\n",
        "\n",
        "    print(\"Accuracy:\", acc)"
      ],
      "metadata": {
        "id": "gknTsMKOBd3C",
        "outputId": "e9b87e31-8922-44c8-8e7a-76abbe8b8182",
        "colab": {
          "base_uri": "https://localhost:8080/"
        }
      },
      "execution_count": 15,
      "outputs": [
        {
          "output_type": "stream",
          "name": "stdout",
          "text": [
            "Accuracy: 0.9385964912280702\n"
          ]
        }
      ]
    }
  ]
}