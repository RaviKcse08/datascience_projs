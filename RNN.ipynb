{
  "nbformat": 4,
  "nbformat_minor": 0,
  "metadata": {
    "colab": {
      "provenance": [],
      "authorship_tag": "ABX9TyNNiMa8XD6l2KDr3ABpSqUL",
      "include_colab_link": true
    },
    "kernelspec": {
      "name": "python3",
      "display_name": "Python 3"
    },
    "language_info": {
      "name": "python"
    }
  },
  "cells": [
    {
      "cell_type": "markdown",
      "metadata": {
        "id": "view-in-github",
        "colab_type": "text"
      },
      "source": [
        "<a href=\"https://colab.research.google.com/github/RaviKcse08/datascience_projs/blob/main/RNN.ipynb\" target=\"_parent\"><img src=\"https://colab.research.google.com/assets/colab-badge.svg\" alt=\"Open In Colab\"/></a>"
      ]
    },
    {
      "cell_type": "code",
      "source": [
        "from keras.datasets import imdb\n",
        "from keras.preprocessing import sequence\n",
        "import keras\n",
        "import tensorflow as tf\n",
        "import os\n",
        "import numpy as np\n",
        "\n",
        "VOCAB_SIZE = 88584\n",
        "\n",
        "(train_data, train_labels), (test_data, test_labels) = imdb.load_data(num_words = VOCAB_SIZE)"
      ],
      "metadata": {
        "id": "aEqfK9WMwkFW"
      },
      "execution_count": 8,
      "outputs": []
    },
    {
      "cell_type": "code",
      "source": [
        "print(\"train_data shape\", train_data.shape)\n",
        "print(\"train_labels shape\", train_labels.shape)\n",
        "print(\"test_data shape\", test_data.shape)\n",
        "print(\"test_labels shape\", test_labels.shape)"
      ],
      "metadata": {
        "colab": {
          "base_uri": "https://localhost:8080/"
        },
        "id": "gNQdydg0xW1_",
        "outputId": "a135b5c3-e2f9-431f-ae76-81238fcf4646"
      },
      "execution_count": 9,
      "outputs": [
        {
          "output_type": "stream",
          "name": "stdout",
          "text": [
            "train_data shape (25000,)\n",
            "train_labels shape (25000,)\n",
            "test_data shape (25000,)\n",
            "test_labels shape (25000,)\n"
          ]
        }
      ]
    },
    {
      "cell_type": "code",
      "source": [
        "len(train_data[1])"
      ],
      "metadata": {
        "colab": {
          "base_uri": "https://localhost:8080/"
        },
        "id": "8L38e6Q7zRXF",
        "outputId": "91f1f1d5-bac6-4500-8e43-499e71ce782b"
      },
      "execution_count": 10,
      "outputs": [
        {
          "output_type": "execute_result",
          "data": {
            "text/plain": [
              "189"
            ]
          },
          "metadata": {},
          "execution_count": 10
        }
      ]
    },
    {
      "cell_type": "code",
      "execution_count": 1,
      "metadata": {
        "colab": {
          "base_uri": "https://localhost:8080/"
        },
        "id": "IzrlzTuzvQru",
        "outputId": "60652fe8-6fa9-48db-bbfc-6ce859bf3748"
      },
      "outputs": [
        {
          "output_type": "stream",
          "name": "stdout",
          "text": [
            "Downloading data from https://storage.googleapis.com/tensorflow/tf-keras-datasets/imdb.npz\n",
            "17464789/17464789 [==============================] - 0s 0us/step\n"
          ]
        }
      ],
      "source": [
        "from keras.datasets import imdb\n",
        "from keras.preprocessing import sequence\n",
        "import keras\n",
        "import tensorflow as tf\n",
        "import os\n",
        "import numpy as np\n",
        "\n",
        "VOCAB_SIZE = 88584\n",
        "\n",
        "MAXLEN = 250\n",
        "BATCH_SIZE = 64\n",
        "\n",
        "#(train_data, train_labels), (test_data, test_labels) = imdb.load_data(num_words = VOCAB_SIZE)"
      ]
    },
    {
      "cell_type": "code",
      "source": [
        "train_data=sequence.pad_sequences(train_data,MAXLEN)\n",
        "test_data=sequence.pad_sequences(test_data,MAXLEN)"
      ],
      "metadata": {
        "id": "aftq7GIPvgM3"
      },
      "execution_count": 2,
      "outputs": []
    },
    {
      "cell_type": "code",
      "source": [
        "model=tf.keras.Sequential([\n",
        "    tf.keras.layers.Embedding(VOCAB_SIZE,32),\n",
        "    tf.keras.layers.LSTM(32),\n",
        "    tf.keras.layers.Dense(1,activation='sigmoid')\n",
        "])"
      ],
      "metadata": {
        "id": "1Oe0yFiovbsd"
      },
      "execution_count": 3,
      "outputs": []
    },
    {
      "cell_type": "code",
      "source": [
        "model.summary()"
      ],
      "metadata": {
        "colab": {
          "base_uri": "https://localhost:8080/"
        },
        "id": "2pwKtpmkvlNZ",
        "outputId": "02818bc8-fd21-4bb9-8149-d0ea87d15df0"
      },
      "execution_count": 4,
      "outputs": [
        {
          "output_type": "stream",
          "name": "stdout",
          "text": [
            "Model: \"sequential\"\n",
            "_________________________________________________________________\n",
            " Layer (type)                Output Shape              Param #   \n",
            "=================================================================\n",
            " embedding (Embedding)       (None, None, 32)          2834688   \n",
            "                                                                 \n",
            " lstm (LSTM)                 (None, 32)                8320      \n",
            "                                                                 \n",
            " dense (Dense)               (None, 1)                 33        \n",
            "                                                                 \n",
            "=================================================================\n",
            "Total params: 2843041 (10.85 MB)\n",
            "Trainable params: 2843041 (10.85 MB)\n",
            "Non-trainable params: 0 (0.00 Byte)\n",
            "_________________________________________________________________\n"
          ]
        }
      ]
    },
    {
      "cell_type": "code",
      "source": [
        "model.compile(loss=\"binary_crossentropy\",optimizer=\"rmsprop\",metrics=['accuracy'])\n",
        "history=model.fit(train_data,train_labels,epochs=10,validation_split=0.2)"
      ],
      "metadata": {
        "colab": {
          "base_uri": "https://localhost:8080/"
        },
        "id": "XrxU1Hisvqqm",
        "outputId": "6790f804-d58a-488c-faa5-00e441f67bd2"
      },
      "execution_count": 5,
      "outputs": [
        {
          "output_type": "stream",
          "name": "stdout",
          "text": [
            "Epoch 1/10\n",
            "625/625 [==============================] - 73s 114ms/step - loss: 0.4674 - accuracy: 0.7685 - val_loss: 0.3303 - val_accuracy: 0.8616\n",
            "Epoch 2/10\n",
            "625/625 [==============================] - 69s 111ms/step - loss: 0.2681 - accuracy: 0.8938 - val_loss: 0.3024 - val_accuracy: 0.8760\n",
            "Epoch 3/10\n",
            "625/625 [==============================] - 68s 108ms/step - loss: 0.2040 - accuracy: 0.9248 - val_loss: 0.3356 - val_accuracy: 0.8738\n",
            "Epoch 4/10\n",
            "625/625 [==============================] - 70s 112ms/step - loss: 0.1643 - accuracy: 0.9419 - val_loss: 0.3235 - val_accuracy: 0.8838\n",
            "Epoch 5/10\n",
            "625/625 [==============================] - 68s 109ms/step - loss: 0.1359 - accuracy: 0.9541 - val_loss: 0.4138 - val_accuracy: 0.8774\n",
            "Epoch 6/10\n",
            "625/625 [==============================] - 68s 108ms/step - loss: 0.1149 - accuracy: 0.9613 - val_loss: 0.3532 - val_accuracy: 0.8808\n",
            "Epoch 7/10\n",
            "625/625 [==============================] - 69s 110ms/step - loss: 0.0948 - accuracy: 0.9692 - val_loss: 0.3439 - val_accuracy: 0.8726\n",
            "Epoch 8/10\n",
            "625/625 [==============================] - 70s 112ms/step - loss: 0.0829 - accuracy: 0.9738 - val_loss: 0.3426 - val_accuracy: 0.8728\n",
            "Epoch 9/10\n",
            "625/625 [==============================] - 67s 108ms/step - loss: 0.0696 - accuracy: 0.9786 - val_loss: 0.4199 - val_accuracy: 0.8740\n",
            "Epoch 10/10\n",
            "625/625 [==============================] - 67s 108ms/step - loss: 0.0605 - accuracy: 0.9809 - val_loss: 0.3846 - val_accuracy: 0.8704\n"
          ]
        }
      ]
    }
  ]
}