{
  "nbformat": 4,
  "nbformat_minor": 0,
  "metadata": {
    "colab": {
      "provenance": [],
      "authorship_tag": "ABX9TyNBszfz31T6zBR6SHiToDBH",
      "include_colab_link": true
    },
    "kernelspec": {
      "name": "python3",
      "display_name": "Python 3"
    },
    "language_info": {
      "name": "python"
    }
  },
  "cells": [
    {
      "cell_type": "markdown",
      "metadata": {
        "id": "view-in-github",
        "colab_type": "text"
      },
      "source": [
        "<a href=\"https://colab.research.google.com/github/RaviKcse08/datascience_projs/blob/main/TF_Image_Classification.ipynb\" target=\"_parent\"><img src=\"https://colab.research.google.com/assets/colab-badge.svg\" alt=\"Open In Colab\"/></a>"
      ]
    },
    {
      "cell_type": "code",
      "source": [
        "#include tensorflow datasets API\n",
        "!pip install -U tensorflow_datasets"
      ],
      "metadata": {
        "colab": {
          "base_uri": "https://localhost:8080/"
        },
        "id": "F2m2hQHbHZ2X",
        "outputId": "6e4c3c98-370a-4be5-9708-5d58d2c7c35b"
      },
      "execution_count": 66,
      "outputs": [
        {
          "output_type": "stream",
          "name": "stdout",
          "text": [
            "Requirement already satisfied: tensorflow_datasets in /usr/local/lib/python3.10/dist-packages (4.9.4)\n",
            "Requirement already satisfied: absl-py in /usr/local/lib/python3.10/dist-packages (from tensorflow_datasets) (1.4.0)\n",
            "Requirement already satisfied: click in /usr/local/lib/python3.10/dist-packages (from tensorflow_datasets) (8.1.7)\n",
            "Requirement already satisfied: dm-tree in /usr/local/lib/python3.10/dist-packages (from tensorflow_datasets) (0.1.8)\n",
            "Requirement already satisfied: etils[enp,epath,etree]>=0.9.0 in /usr/local/lib/python3.10/dist-packages (from tensorflow_datasets) (1.6.0)\n",
            "Requirement already satisfied: numpy in /usr/local/lib/python3.10/dist-packages (from tensorflow_datasets) (1.23.5)\n",
            "Requirement already satisfied: promise in /usr/local/lib/python3.10/dist-packages (from tensorflow_datasets) (2.3)\n",
            "Requirement already satisfied: protobuf>=3.20 in /usr/local/lib/python3.10/dist-packages (from tensorflow_datasets) (3.20.3)\n",
            "Requirement already satisfied: psutil in /usr/local/lib/python3.10/dist-packages (from tensorflow_datasets) (5.9.5)\n",
            "Requirement already satisfied: requests>=2.19.0 in /usr/local/lib/python3.10/dist-packages (from tensorflow_datasets) (2.31.0)\n",
            "Requirement already satisfied: tensorflow-metadata in /usr/local/lib/python3.10/dist-packages (from tensorflow_datasets) (1.14.0)\n",
            "Requirement already satisfied: termcolor in /usr/local/lib/python3.10/dist-packages (from tensorflow_datasets) (2.4.0)\n",
            "Requirement already satisfied: toml in /usr/local/lib/python3.10/dist-packages (from tensorflow_datasets) (0.10.2)\n",
            "Requirement already satisfied: tqdm in /usr/local/lib/python3.10/dist-packages (from tensorflow_datasets) (4.66.1)\n",
            "Requirement already satisfied: wrapt in /usr/local/lib/python3.10/dist-packages (from tensorflow_datasets) (1.14.1)\n",
            "Requirement already satisfied: array-record>=0.5.0 in /usr/local/lib/python3.10/dist-packages (from tensorflow_datasets) (0.5.0)\n",
            "Requirement already satisfied: fsspec in /usr/local/lib/python3.10/dist-packages (from etils[enp,epath,etree]>=0.9.0->tensorflow_datasets) (2023.6.0)\n",
            "Requirement already satisfied: importlib_resources in /usr/local/lib/python3.10/dist-packages (from etils[enp,epath,etree]>=0.9.0->tensorflow_datasets) (6.1.1)\n",
            "Requirement already satisfied: typing_extensions in /usr/local/lib/python3.10/dist-packages (from etils[enp,epath,etree]>=0.9.0->tensorflow_datasets) (4.5.0)\n",
            "Requirement already satisfied: zipp in /usr/local/lib/python3.10/dist-packages (from etils[enp,epath,etree]>=0.9.0->tensorflow_datasets) (3.17.0)\n",
            "Requirement already satisfied: charset-normalizer<4,>=2 in /usr/local/lib/python3.10/dist-packages (from requests>=2.19.0->tensorflow_datasets) (3.3.2)\n",
            "Requirement already satisfied: idna<4,>=2.5 in /usr/local/lib/python3.10/dist-packages (from requests>=2.19.0->tensorflow_datasets) (3.6)\n",
            "Requirement already satisfied: urllib3<3,>=1.21.1 in /usr/local/lib/python3.10/dist-packages (from requests>=2.19.0->tensorflow_datasets) (2.0.7)\n",
            "Requirement already satisfied: certifi>=2017.4.17 in /usr/local/lib/python3.10/dist-packages (from requests>=2.19.0->tensorflow_datasets) (2023.11.17)\n",
            "Requirement already satisfied: six in /usr/local/lib/python3.10/dist-packages (from promise->tensorflow_datasets) (1.16.0)\n",
            "Requirement already satisfied: googleapis-common-protos<2,>=1.52.0 in /usr/local/lib/python3.10/dist-packages (from tensorflow-metadata->tensorflow_datasets) (1.62.0)\n"
          ]
        }
      ]
    },
    {
      "cell_type": "code",
      "source": [
        "import tensorflow as tf\n",
        "# Import TensorFlow Datasets\n",
        "import tensorflow_datasets as tfds\n",
        "tfds.disable_progress_bar()\n",
        "\n",
        "# Helper libraries\n",
        "import math\n",
        "import numpy as np\n",
        "import matplotlib.pyplot as plt\n",
        "import logging\n",
        "logger = tf.get_logger()\n",
        "logger.setLevel(logging.ERROR)"
      ],
      "metadata": {
        "id": "6Vx-3DeMH15f"
      },
      "execution_count": 67,
      "outputs": []
    },
    {
      "cell_type": "code",
      "execution_count": 68,
      "metadata": {
        "id": "hQXLvYhMG-4N"
      },
      "outputs": [],
      "source": [
        "#dataset, metadata = tfds.load('fashion_mnist', as_supervised=True, with_info=True)\n",
        "#train_dataset, test_dataset = dataset['train'], dataset['test']\n",
        "\n",
        "\n",
        "dataset, metadata = tfds.load('fashion_mnist', as_supervised=True, with_info=True)\n",
        "train_dataset, test_dataset = dataset['train'], dataset['test']"
      ]
    },
    {
      "cell_type": "code",
      "source": [
        "class_names = metadata.features['label'].names\n"
      ],
      "metadata": {
        "id": "2tv3WsLmLoVZ"
      },
      "execution_count": 69,
      "outputs": []
    },
    {
      "cell_type": "code",
      "source": [],
      "metadata": {
        "id": "h2la3Jl2WDaj"
      },
      "execution_count": 69,
      "outputs": []
    },
    {
      "cell_type": "code",
      "source": [
        "num_train_examples = metadata.splits['train'].num_examples\n",
        "num_test_examples = metadata.splits['test'].num_examples\n",
        "#print(\"Class names: {}\".format(class_names))\n",
        "print(metadata.features['label'].names)\n",
        "print(\"Number of training examples: {}\".format(num_train_examples))\n",
        "print(\"Number of test examples:     {}\".format(num_test_examples))"
      ],
      "metadata": {
        "colab": {
          "base_uri": "https://localhost:8080/"
        },
        "id": "d0KrwdCNM42M",
        "outputId": "22ec13e2-a736-4be2-8172-e97a7a0b288c"
      },
      "execution_count": 70,
      "outputs": [
        {
          "output_type": "stream",
          "name": "stdout",
          "text": [
            "['T-shirt/top', 'Trouser', 'Pullover', 'Dress', 'Coat', 'Sandal', 'Shirt', 'Sneaker', 'Bag', 'Ankle boot']\n",
            "Number of training examples: 60000\n",
            "Number of test examples:     10000\n"
          ]
        }
      ]
    },
    {
      "cell_type": "code",
      "source": [
        "#normalization function\n",
        "def normalize(images, labels):\n",
        "  images = tf.cast(images, tf.float32)\n",
        "  images /= 255\n",
        "  return images, labels\n",
        "\n",
        "# The map function applies the normalize function to each element in the train\n",
        "# and test datasets\n",
        "train_dataset =  train_dataset.map(normalize)\n",
        "test_dataset  =  test_dataset.map(normalize)\n",
        "\n",
        "train_dataset = train_dataset.cache()\n"
      ],
      "metadata": {
        "id": "dzKyNm1yNqH_"
      },
      "execution_count": 71,
      "outputs": []
    },
    {
      "cell_type": "code",
      "source": [
        "# Take a single image, and remove the color dimension by reshaping\n",
        "for image, label in test_dataset.take(1):\n",
        "  break\n",
        "#image = image.numpy().reshape((28,28))\n",
        "\n",
        "# Plot the image - piece of mnist\n",
        "plt.figure(figsize=(5,5))\n",
        "plt.imshow(image,cmap=plt.cm.binary)\n",
        "plt.colorbar()\n",
        "plt.grid(False)\n",
        "\n",
        "# plt.imshow(image, cmap=plt.cm.binary)\n",
        "# plt.colorbar()\n",
        "# plt.grid(False)\n",
        "# plt.show()"
      ],
      "metadata": {
        "colab": {
          "base_uri": "https://localhost:8080/",
          "height": 435
        },
        "id": "yosDyI_QOHgT",
        "outputId": "83183dee-f711-4426-a87a-c40147848fd8"
      },
      "execution_count": 72,
      "outputs": [
        {
          "output_type": "display_data",
          "data": {
            "text/plain": [
              "<Figure size 500x500 with 2 Axes>"
            ],
            "image/png": "[encoded data removed]"
          },
          "metadata": {}
        }
      ]
    },
    {
      "cell_type": "code",
      "source": [
        "plt.figure(figsize=(5,5))\n",
        "for i, (image, label) in enumerate(train_dataset.take(10)):\n",
        "    image = image.numpy().reshape((28,28))\n",
        "    plt.subplot(5,5,i+1)\n",
        "    plt.xticks([])\n",
        "    plt.yticks([])\n",
        "    plt.grid(False)\n",
        "    plt.imshow(image)\n",
        "    plt.xlabel(class_names[label])\n",
        "plt.show()"
      ],
      "metadata": {
        "colab": {
          "base_uri": "https://localhost:8080/",
          "height": 202
        },
        "id": "j243frkzOiUY",
        "outputId": "3d8fa377-839e-44b9-93cc-936eca63ff2f"
      },
      "execution_count": 73,
      "outputs": [
        {
          "output_type": "display_data",
          "data": {
            "text/plain": [
              "<Figure size 500x500 with 10 Axes>"
            ],
            "image/png": "[encoded data removed]"
          },
          "metadata": {}
        }
      ]
    },
    {
      "cell_type": "code",
      "source": [
        "model = tf.keras.Sequential([tf.keras.layers.Flatten(input_shape=(28,28,1)),\n",
        "                             tf.keras.layers.Dense(128, activation=tf.nn.relu),\n",
        "                             tf.keras.layers.Dense(10,activation=tf.nn.softmax)])\n",
        "\n",
        "# model = tf.keras.Sequential([\n",
        "#     tf.keras.layers.Flatten(input_shape=(28, 28, 1)),\n",
        "#     tf.keras.layers.Dense(128, activation=tf.nn.relu),\n",
        "#     tf.keras.layers.Dense(10, activation=tf.nn.softmax)\n",
        "# ])"
      ],
      "metadata": {
        "id": "_apUZiggWEpM"
      },
      "execution_count": 74,
      "outputs": []
    },
    {
      "cell_type": "code",
      "source": [
        "model.compile(loss=tf.keras.losses.SparseCategoricalCrossentropy(),\n",
        "              optimizer=tf.keras.optimizers.Adam(learning_rate=0.001),\n",
        "              metrics=['accuracy'])\n",
        "# model.compile(optimizer='adam',\n",
        "#               loss=tf.keras.losses.SparseCategoricalCrossentropy(),\n",
        "#               metrics=['accuracy'])\n",
        "#model.compile(loss=tf.keras.losses.SparseCategoricalCrossentropy,optimizer=tf.keras.optimizers.Adam(learning_rate=0.001),metrics=['accuracy'])"
      ],
      "metadata": {
        "id": "ssXhcUf8XNcF"
      },
      "execution_count": 75,
      "outputs": []
    },
    {
      "cell_type": "code",
      "source": [
        "# #BATCH_SIZE = 32\n",
        "# train_dataset = train_dataset.take(2000)\n",
        "# #test_dataset = test_dataset.cache().batch(BATCH_SIZE)\n",
        "\n",
        "BATCH_SIZE = 32\n",
        "train_dataset = train_dataset.cache().repeat().shuffle(num_train_examples).batch(BATCH_SIZE)\n",
        "test_dataset = test_dataset.cache().batch(BATCH_SIZE)"
      ],
      "metadata": {
        "id": "QxB04JO9YviO"
      },
      "execution_count": 76,
      "outputs": []
    },
    {
      "cell_type": "code",
      "source": [
        "#model.fit(train_dataset, epochs=1)\n",
        "\n",
        "model.fit(train_dataset, epochs=5, steps_per_epoch=math.ceil(num_train_examples/BATCH_SIZE))"
      ],
      "metadata": {
        "colab": {
          "base_uri": "https://localhost:8080/"
        },
        "id": "KuMjEOL0Y2t1",
        "outputId": "5d1987bf-ddd9-4546-f9f9-58ca1eeaaaec"
      },
      "execution_count": 77,
      "outputs": [
        {
          "output_type": "stream",
          "name": "stdout",
          "text": [
            "Epoch 1/5\n",
            "1875/1875 [==============================] - 9s 2ms/step - loss: 0.4944 - accuracy: 0.8270\n",
            "Epoch 2/5\n",
            "1875/1875 [==============================] - 4s 2ms/step - loss: 0.3717 - accuracy: 0.8663\n",
            "Epoch 3/5\n",
            "1875/1875 [==============================] - 4s 2ms/step - loss: 0.3325 - accuracy: 0.8772\n",
            "Epoch 4/5\n",
            "1875/1875 [==============================] - 5s 2ms/step - loss: 0.3083 - accuracy: 0.8889\n",
            "Epoch 5/5\n",
            "1875/1875 [==============================] - 4s 2ms/step - loss: 0.2953 - accuracy: 0.8912\n"
          ]
        },
        {
          "output_type": "execute_result",
          "data": {
            "text/plain": [
              "<keras.src.callbacks.History at 0x781ae17c7340>"
            ]
          },
          "metadata": {},
          "execution_count": 77
        }
      ]
    },
    {
      "cell_type": "code",
      "source": [
        "test_loss, test_accuracy = model.evaluate(test_dataset, steps=math.ceil(num_test_examples/BATCH_SIZE))\n",
        "print('Accuracy on test dataset:', test_accuracy)"
      ],
      "metadata": {
        "colab": {
          "base_uri": "https://localhost:8080/"
        },
        "id": "BPudi6G-jsQx",
        "outputId": "dce7c1a8-2c29-4c9f-b1a8-f45554185cd5"
      },
      "execution_count": 78,
      "outputs": [
        {
          "output_type": "stream",
          "name": "stdout",
          "text": [
            "313/313 [==============================] - 2s 5ms/step - loss: 0.3487 - accuracy: 0.8740\n",
            "Accuracy on test dataset: 0.8740000128746033\n"
          ]
        }
      ]
    },
    {
      "cell_type": "code",
      "source": [
        "for imag, label in test_dataset.take(1):\n",
        "  pred = model.predict(imag)\n",
        "  print(pred[0])"
      ],
      "metadata": {
        "colab": {
          "base_uri": "https://localhost:8080/"
        },
        "id": "nYnVlsX-kGCl",
        "outputId": "b1039bb3-87ec-43b6-a60d-ba1a20dfbb18"
      },
      "execution_count": 79,
      "outputs": [
        {
          "output_type": "stream",
          "name": "stdout",
          "text": [
            "1/1 [==============================] - 0s 57ms/step\n",
            "[3.6846832e-05 6.4564862e-05 1.2799739e-02 1.0700733e-06 9.7902876e-01\n",
            " 1.9591366e-09 8.0640921e-03 5.8508873e-09 5.0630993e-06 7.9633180e-09]\n"
          ]
        }
      ]
    },
    {
      "cell_type": "code",
      "source": [
        "for test_images, test_labels in test_dataset.take(1):\n",
        "  test_images = test_images.numpy()\n",
        "  test_labels = test_labels.numpy()\n",
        "  predictions = model.predict(test_images)"
      ],
      "metadata": {
        "colab": {
          "base_uri": "https://localhost:8080/"
        },
        "id": "P8IKDTxCkfQq",
        "outputId": "18939de1-f013-484e-f84f-963948108572"
      },
      "execution_count": 80,
      "outputs": [
        {
          "output_type": "stream",
          "name": "stdout",
          "text": [
            "1/1 [==============================] - 0s 13ms/step\n"
          ]
        }
      ]
    },
    {
      "cell_type": "code",
      "source": [
        "print(predictions)"
      ],
      "metadata": {
        "colab": {
          "base_uri": "https://localhost:8080/"
        },
        "id": "52Ciebshkg7F",
        "outputId": "57a79f1c-5035-4ee4-b30a-53583a06c550"
      },
      "execution_count": 81,
      "outputs": [
        {
          "output_type": "stream",
          "name": "stdout",
          "text": [
            "[[3.68468318e-05 6.45648615e-05 1.27997389e-02 1.07007327e-06\n",
            "  9.79028761e-01 1.95913663e-09 8.06409214e-03 5.85088733e-09\n",
            "  5.06309925e-06 7.96331801e-09]\n",
            " [4.40178428e-06 1.83131149e-07 2.41153617e-03 9.47353129e-08\n",
            "  8.21728587e-01 6.61773580e-10 1.75854653e-01 4.52040710e-10\n",
            "  5.16732143e-07 3.44826656e-09]\n",
            " [2.64984446e-05 1.99115470e-06 2.92188020e-06 3.95556413e-07\n",
            "  5.55138627e-07 2.97983419e-02 1.95616230e-05 1.04569972e-01\n",
            "  1.24646438e-04 8.65455091e-01]\n",
            " [1.16551091e-05 1.47082787e-07 4.25860435e-07 2.33325981e-09\n",
            "  2.50415972e-08 1.57523842e-04 2.23562415e-06 8.26219261e-01\n",
            "  3.37047709e-06 1.73605278e-01]\n",
            " [4.89572223e-08 4.16131218e-09 1.02283408e-08 1.70576574e-11\n",
            "  3.87453791e-10 9.99998391e-01 4.15576977e-08 1.11644120e-07\n",
            "  2.08971205e-08 1.25832958e-06]\n",
            " [1.25657413e-08 9.99999583e-01 5.57494773e-10 2.13853326e-07\n",
            "  1.25816726e-07 2.35101108e-17 7.44072082e-10 2.10402899e-15\n",
            "  4.58738408e-10 1.09407078e-13]\n",
            " [9.95559812e-01 8.20557311e-09 5.53189493e-05 1.86839912e-07\n",
            "  1.44463826e-07 2.39756826e-10 4.38441895e-03 1.53658499e-13\n",
            "  1.08417787e-07 6.00800930e-13]\n",
            " [1.10063481e-09 1.35674414e-11 1.34963166e-10 1.18471982e-10\n",
            "  2.38708879e-12 9.99219835e-01 1.29876576e-09 2.32691193e-04\n",
            "  4.06033296e-09 5.47544740e-04]\n",
            " [5.04514264e-06 1.49007462e-06 8.55996586e-06 4.66106826e-07\n",
            "  2.42740134e-06 9.78973228e-04 6.85499708e-06 9.98055220e-01\n",
            "  4.67323071e-06 9.36295721e-04]\n",
            " [4.28197556e-04 6.31361094e-04 6.24320544e-02 2.39180546e-04\n",
            "  9.32418287e-01 2.64568323e-09 3.65038402e-03 2.81099033e-10\n",
            "  2.00419032e-04 5.15813134e-08]\n",
            " [8.12693536e-01 6.37086981e-04 8.96090735e-03 2.65592057e-03\n",
            "  7.58125738e-04 5.92130982e-06 1.74176261e-01 1.81390192e-07\n",
            "  1.11855923e-04 1.58138633e-07]\n",
            " [2.48711444e-06 1.06879199e-08 2.54394639e-08 4.42914114e-08\n",
            "  3.95791737e-08 8.16065224e-08 1.05616649e-09 5.13649212e-08\n",
            "  9.99997199e-01 2.33577567e-11]\n",
            " [1.16397033e-03 3.41205705e-05 8.88968170e-01 1.04068465e-06\n",
            "  1.58270597e-02 1.66925129e-09 9.39942747e-02 6.77085887e-10\n",
            "  1.14626773e-05 2.55831036e-08]\n",
            " [3.17567885e-02 2.04397459e-02 2.00368348e-03 9.30245221e-01\n",
            "  1.23211602e-03 1.07652224e-04 1.32143339e-02 1.64622925e-05\n",
            "  8.43080052e-04 1.41021868e-04]\n",
            " [1.62871702e-10 7.50239974e-12 2.62890621e-13 7.16639508e-12\n",
            "  5.49610372e-15 9.45067659e-05 6.53038387e-11 6.65451400e-04\n",
            "  3.24159455e-13 9.99240100e-01]\n",
            " [6.69738054e-01 2.24111974e-03 2.49807667e-02 2.92500593e-02\n",
            "  2.97464114e-02 3.40121983e-06 2.43830711e-01 1.42546213e-07\n",
            "  2.08784477e-04 4.57019212e-07]\n",
            " [6.27814245e-09 1.22172911e-10 2.65229705e-08 4.28617225e-10\n",
            "  3.44686555e-08 4.51726187e-03 4.40339543e-09 9.95478988e-01\n",
            "  1.16735418e-06 2.40039822e-06]\n",
            " [2.10139845e-07 3.00131298e-08 3.44305931e-07 6.62124151e-08\n",
            "  3.85246295e-07 5.07336918e-05 1.86943240e-07 9.99869823e-01\n",
            "  3.57773160e-06 7.47275481e-05]\n",
            " [1.30303681e-03 1.97981775e-04 8.49448919e-01 4.75585111e-05\n",
            "  3.37806232e-02 7.60627745e-06 1.15186505e-01 9.28116549e-07\n",
            "  2.38099219e-05 2.94958454e-06]\n",
            " [1.21382996e-04 1.92365314e-06 9.33797300e-01 4.78542279e-06\n",
            "  5.64976074e-02 3.65914616e-07 9.57422424e-03 1.39017260e-07\n",
            "  2.17296406e-06 1.09536735e-08]\n",
            " [7.56976545e-01 1.09245092e-01 1.77349094e-02 2.68788263e-02\n",
            "  1.36184189e-02 1.55471014e-06 7.45587945e-02 1.11285408e-08\n",
            "  9.85661522e-04 1.72288903e-08]\n",
            " [1.46543071e-05 6.17930618e-06 6.96338527e-03 4.92118431e-07\n",
            "  9.16377485e-01 6.88905100e-10 7.66365528e-02 2.25049002e-09\n",
            "  1.16950866e-06 1.16169674e-09]\n",
            " [1.39527729e-05 1.32003275e-04 3.96574959e-02 2.87919811e-05\n",
            "  9.58838999e-01 2.60705022e-08 1.20508624e-03 1.06100629e-07\n",
            "  1.23095291e-04 4.59627017e-07]\n",
            " [4.27586783e-05 2.01011804e-04 6.60336554e-01 1.63135464e-05\n",
            "  3.38240325e-01 4.37008829e-09 1.16210361e-03 7.57134266e-09\n",
            "  8.88977297e-07 2.40161953e-08]\n",
            " [4.18826997e-01 4.31186461e-04 6.22687079e-02 9.10827965e-02\n",
            "  3.51432413e-02 5.35215975e-07 3.92039001e-01 5.43245271e-09\n",
            "  2.07455538e-04 6.81407286e-08]\n",
            " [1.32959750e-08 3.61297814e-09 9.35310318e-09 2.15585305e-09\n",
            "  2.43013663e-08 1.90492683e-05 9.68147251e-09 9.99937713e-01\n",
            "  3.02502212e-05 1.29317095e-05]\n",
            " [2.84909547e-05 9.99652730e-06 1.05345789e-05 1.95740677e-06\n",
            "  1.20556861e-05 1.79283842e-02 5.56517352e-06 9.80411708e-01\n",
            "  1.21216246e-04 1.46991992e-03]\n",
            " [2.48245615e-05 1.30215676e-05 9.19485018e-02 2.09863913e-07\n",
            "  8.96606863e-01 7.46984824e-07 1.13979131e-02 3.93234671e-08\n",
            "  7.13265172e-06 7.43358441e-07]\n",
            " [2.40925886e-03 1.23131422e-05 9.59323168e-01 1.81930100e-05\n",
            "  1.43183619e-02 1.32451854e-08 2.39053480e-02 8.91684893e-10\n",
            "  1.33406256e-05 1.09818377e-08]\n",
            " [6.34699791e-06 2.19289473e-06 7.82154053e-02 1.34789007e-08\n",
            "  9.19472456e-01 1.04854070e-09 2.30353861e-03 4.91123218e-11\n",
            "  1.41234707e-07 5.62152147e-09]\n",
            " [3.87530918e-06 2.86767431e-07 2.76335322e-06 4.67658401e-06\n",
            "  1.83144289e-06 4.70414525e-05 2.06456698e-05 9.85656559e-01\n",
            "  9.18420125e-03 5.07802097e-03]\n",
            " [5.68856058e-06 5.59950202e-08 7.09984874e-07 3.44693802e-08\n",
            "  1.32666855e-07 9.76496637e-01 1.87950366e-06 1.98820867e-02\n",
            "  1.61846762e-03 1.99431391e-03]]\n"
          ]
        }
      ]
    },
    {
      "cell_type": "code",
      "source": [
        "print(predictions[0])"
      ],
      "metadata": {
        "colab": {
          "base_uri": "https://localhost:8080/"
        },
        "id": "HGGyNKaGpsv7",
        "outputId": "85ea18e5-631a-4bf5-c953-a013539ef2e4"
      },
      "execution_count": 82,
      "outputs": [
        {
          "output_type": "stream",
          "name": "stdout",
          "text": [
            "[3.6846832e-05 6.4564862e-05 1.2799739e-02 1.0700733e-06 9.7902876e-01\n",
            " 1.9591366e-09 8.0640921e-03 5.8508873e-09 5.0630993e-06 7.9633180e-09]\n"
          ]
        }
      ]
    },
    {
      "cell_type": "code",
      "source": [
        "print(np.argmax(predictions[0]))"
      ],
      "metadata": {
        "colab": {
          "base_uri": "https://localhost:8080/"
        },
        "id": "g20Y4OtnpZUg",
        "outputId": "84aa30fc-ae9d-4824-c00f-04a083ea7c9d"
      },
      "execution_count": 83,
      "outputs": [
        {
          "output_type": "stream",
          "name": "stdout",
          "text": [
            "4\n"
          ]
        }
      ]
    },
    {
      "cell_type": "code",
      "source": [
        "print(class_names[np.argmax(predictions[0])])"
      ],
      "metadata": {
        "colab": {
          "base_uri": "https://localhost:8080/"
        },
        "id": "-AwUatLLrXkY",
        "outputId": "1e2ff353-dfec-41a2-c5bd-271f7b148fd6"
      },
      "execution_count": 84,
      "outputs": [
        {
          "output_type": "stream",
          "name": "stdout",
          "text": [
            "Coat\n"
          ]
        }
      ]
    },
    {
      "cell_type": "code",
      "source": [
        "def plot_image(i, predictions_array, true_labels, images):\n",
        "  predictions_array, true_label, img = predictions_array[i], true_labels[i], images[i]\n",
        "  plt.grid(False)\n",
        "  plt.xticks([])\n",
        "  plt.yticks([])\n",
        "\n",
        "  plt.imshow(img[...,0], cmap=plt.cm.binary)\n",
        "\n",
        "  predicted_label = np.argmax(predictions_array)\n",
        "  if predicted_label == true_label:\n",
        "    color = 'blue'\n",
        "  else:\n",
        "    color = 'red'\n",
        "\n",
        "  plt.xlabel(\"{} {:2.0f}% ({})\".format(class_names[predicted_label],\n",
        "                                100*np.max(predictions_array),\n",
        "                                class_names[true_label]),\n",
        "                                color=color)"
      ],
      "metadata": {
        "id": "qtl9bjwDpdV_"
      },
      "execution_count": 85,
      "outputs": []
    },
    {
      "cell_type": "code",
      "source": [
        "i = 2\n",
        "plt.figure(figsize=(6,3))\n",
        "plt.subplot(1,2,1)\n",
        "plot_image(i, predictions, test_labels, test_images)"
      ],
      "metadata": {
        "colab": {
          "base_uri": "https://localhost:8080/",
          "height": 267
        },
        "id": "TRwvWlV_quTI",
        "outputId": "d1498c6a-cdf7-4c1e-abf5-1aa587ee065e"
      },
      "execution_count": 87,
      "outputs": [
        {
          "output_type": "display_data",
          "data": {
            "text/plain": [
              "<Figure size 600x300 with 1 Axes>"
            ],
            "image/png": "[encoded data removed]"
          },
          "metadata": {}
        }
      ]
    },
    {
      "cell_type": "code",
      "source": [
        "# Plot the first X test images, their predicted label, and the true label\n",
        "# Color correct predictions in blue, incorrect predictions in red\n",
        "num_rows = 5\n",
        "num_cols = 3\n",
        "num_images = num_rows*num_cols\n",
        "plt.figure(figsize=(2*2*num_cols, 2*num_rows))\n",
        "for i in range(num_images):\n",
        "  plt.subplot(num_rows, 2*num_cols, 2*i+1)\n",
        "  plot_image(i, predictions, test_labels, test_images)"
      ],
      "metadata": {
        "id": "CscfA4I_snE6"
      },
      "execution_count": null,
      "outputs": []
    }
  ]
}